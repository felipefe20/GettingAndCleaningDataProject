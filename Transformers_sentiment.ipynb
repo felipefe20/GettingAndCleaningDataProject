{
  "nbformat": 4,
  "nbformat_minor": 0,
  "metadata": {
    "colab": {
      "name": "Transformers_sentiment.ipynb",
      "provenance": [],
      "collapsed_sections": [],
      "authorship_tag": "ABX9TyP05tpw0qTF4n8AA+KwItZL",
      "include_colab_link": true
    },
    "kernelspec": {
      "name": "python3",
      "display_name": "Python 3"
    },
    "language_info": {
      "name": "python"
    }
  },
  "cells": [
    {
      "cell_type": "markdown",
      "metadata": {
        "id": "view-in-github",
        "colab_type": "text"
      },
      "source": [
        "<a href=\"https://colab.research.google.com/github/felipefe20/GettingAndCleaningDataProject/blob/master/Transformers_sentiment.ipynb\" target=\"_parent\"><img src=\"https://colab.research.google.com/assets/colab-badge.svg\" alt=\"Open In Colab\"/></a>"
      ]
    },
    {
      "cell_type": "code",
      "execution_count": 2,
      "metadata": {
        "colab": {
          "base_uri": "https://localhost:8080/"
        },
        "id": "2DC3FmcLs9Gn",
        "outputId": "1cd87c00-c4d4-4c42-9083-a903e1bddee0"
      },
      "outputs": [
        {
          "output_type": "stream",
          "name": "stderr",
          "text": [
            "All model checkpoint layers were used when initializing TFRobertaForSequenceClassification.\n",
            "\n",
            "All the layers of TFRobertaForSequenceClassification were initialized from the model checkpoint at cardiffnlp/twitter-roberta-base-sentiment.\n",
            "If your task is similar to the task the model of the checkpoint was trained on, you can already use TFRobertaForSequenceClassification for predictions without further training.\n"
          ]
        },
        {
          "output_type": "stream",
          "name": "stdout",
          "text": [
            "1) positive 0.8466\n",
            "2) neutral 0.1458\n",
            "3) negative 0.0076\n"
          ]
        }
      ],
      "source": [
        "#Example of classification\n",
        "from transformers import AutoModelForSequenceClassification\n",
        "from transformers import TFAutoModelForSequenceClassification\n",
        "from transformers import AutoTokenizer\n",
        "import numpy as np\n",
        "from scipy.special import softmax\n",
        "import csv\n",
        "import urllib.request\n",
        "\n",
        "# Preprocess text (username and link placeholders)\n",
        "def preprocess(text):\n",
        "    new_text = []\n",
        " \n",
        " \n",
        "    for t in text.split(\" \"):\n",
        "        t = '@user' if t.startswith('@') and len(t) > 1 else t\n",
        "        t = 'http' if t.startswith('http') else t\n",
        "        new_text.append(t)\n",
        "    return \" \".join(new_text)\n",
        "\n",
        "# Tasks:\n",
        "# emoji, emotion, hate, irony, offensive, sentiment\n",
        "# stance/abortion, stance/atheism, stance/climate, stance/feminist, stance/hillary\n",
        "\n",
        "task='sentiment'\n",
        "MODEL = f\"cardiffnlp/twitter-roberta-base-{task}\"\n",
        "\n",
        "tokenizer = AutoTokenizer.from_pretrained(MODEL)\n",
        "\n",
        "# download label mapping\n",
        "labels=[]\n",
        "mapping_link = f\"https://raw.githubusercontent.com/cardiffnlp/tweeteval/main/datasets/{task}/mapping.txt\"\n",
        "with urllib.request.urlopen(mapping_link) as f:\n",
        "    html = f.read().decode('utf-8').split(\"\\n\")\n",
        "    csvreader = csv.reader(html, delimiter='\\t')\n",
        "labels = [row[1] for row in csvreader if len(row) > 1]\n",
        "\n",
        "# PT\n",
        "#model = AutoModelForSequenceClassification.from_pretrained(MODEL)\n",
        "#model.save_pretrained(MODEL)\n",
        "\n",
        "#text = \"Good night 😊\"\n",
        "#text = preprocess(text)\n",
        "#encoded_input = tokenizer(text, return_tensors='pt')\n",
        "#output = model(**encoded_input)\n",
        "#scores = output[0][0].detach().numpy()\n",
        "#scores = softmax(scores)\n",
        "\n",
        "# # TF\n",
        "model = TFAutoModelForSequenceClassification.from_pretrained(MODEL)\n",
        "model.save_pretrained(MODEL)\n",
        "tokenizer.save_pretrained(MODEL)\n",
        "text = \"Good night 😊\"\n",
        "encoded_input = tokenizer(text, return_tensors='tf')\n",
        "output = model(encoded_input)\n",
        "scores = output[0][0].numpy()\n",
        "scores = softmax(scores)\n",
        "\n",
        "ranking = np.argsort(scores)\n",
        "ranking = ranking[::-1]\n",
        "for i in range(scores.shape[0]):\n",
        "    l = labels[ranking[i]]\n",
        "    s = scores[ranking[i]]\n",
        "    print(f\"{i+1}) {l} {np.round(float(s), 4)}\")\n"
      ]
    },
    {
      "cell_type": "markdown",
      "source": [
        "# New Section"
      ],
      "metadata": {
        "id": "zEUH6YWWuqP7"
      }
    },
    {
      "cell_type": "code",
      "source": [
        "text = \"Call with @SecBlinken on further steps to strengthen Ukraine’s defense capabilities. Grateful to the U.S. for the new package of tough sanctions on Russia. Pressure must be elevating until Russia stops its brutal aggression and barbaric war crimes against Ukrainians.\"\n",
        "encoded_input = tokenizer(text, return_tensors='tf')\n",
        "output = model(encoded_input)\n",
        "scores = output[0][0].numpy()\n",
        "scores = softmax(scores)\n",
        "\n",
        "ranking = np.argsort(scores)\n",
        "ranking = ranking[::-1]\n",
        "for i in range(scores.shape[0]):\n",
        "    l = labels[ranking[i]]\n",
        "    s = scores[ranking[i]]\n",
        "    print(f\"{i+1}) {l} {np.round(float(s), 4)}\")"
      ],
      "metadata": {
        "colab": {
          "base_uri": "https://localhost:8080/"
        },
        "id": "jQreMXL4vRXT",
        "outputId": "bba57b29-483c-4203-a423-85605d354792"
      },
      "execution_count": 6,
      "outputs": [
        {
          "output_type": "stream",
          "name": "stdout",
          "text": [
            "1) neutral 0.5717\n",
            "2) positive 0.3135\n",
            "3) negative 0.1147\n"
          ]
        }
      ]
    },
    {
      "cell_type": "code",
      "source": [
        "from transformers import pipeline\n",
        "\n",
        "summarizer = pipeline(\"summarization\", model=\"facebook/bart-large-cnn\")\n",
        "\n",
        "ARTICLE=\"\"\"News of the resignations comes as the US warned Chinese companies not to breach restrictions on technology exports to Russia.\n",
        "\n",
        "China abstained on a United Nations resolution condemning Russia's invasion but its government has also recently expressed \"regret\" about the military action, saying it was extremely concerned about the harm to civilians.\n",
        "\n",
        "Commerce Secretary Gina Raimondo told the New York Times Washington could take \"devastating\" action against Chinese companies that defied Russian sanctions, prohibiting the use of US equipment and software needed to make their products.\n",
        "\n",
        "Russia \"is certainly going to be courting other countries to do an end run around our sanctions and export controls\", Ms Raimondo told the newspaper.\n",
        "\n",
        "The threats echo measures taken against Huawei in 2020, when Donald Trump's administration added the company to its \"entity list\", which bans it from acquiring technology from US companies without government approval.\n",
        "\n",
        "The US government said at the time it believed Huawei posed a national security threat, something the company strongly denied.\n",
        "\n",
        "But the restrictions hit the company's earnings hard and deprived it of access to key technologies.\"\"\"\n",
        "\n",
        "print(summarizer(ARTICLE, max_length=40, min_length=10, do_sample=False))\n",
        "\n"
      ],
      "metadata": {
        "colab": {
          "base_uri": "https://localhost:8080/"
        },
        "id": "G0UOvUgVvWK5",
        "outputId": "2889bb43-7fee-4150-cd74-5b87d695121a"
      },
      "execution_count": 9,
      "outputs": [
        {
          "output_type": "stream",
          "name": "stdout",
          "text": [
            "[{'summary_text': 'China abstained on a United Nations resolution condemning Russia\\'s invasion. But its government has expressed \"regret\" about the military action. News of the resignations comes as the US warned'}]\n"
          ]
        }
      ]
    },
    {
      "cell_type": "code",
      "source": [
        ""
      ],
      "metadata": {
        "id": "1Ut4ZA52yzA9"
      },
      "execution_count": null,
      "outputs": []
    }
  ]
}